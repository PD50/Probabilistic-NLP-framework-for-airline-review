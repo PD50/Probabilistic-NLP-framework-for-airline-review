{
 "cells": [
  {
   "cell_type": "markdown",
   "id": "98bd2967-20cc-448d-82fb-44074e7df516",
   "metadata": {},
   "source": [
    "# Probabilty & Random Process \n",
    "## Final Exam:BM22BTECH11002"
   ]
  },
  {
   "cell_type": "code",
   "execution_count": 8,
   "id": "e5cfdb2a-e724-4173-91f0-d04a249f5282",
   "metadata": {
    "id": "e5cfdb2a-e724-4173-91f0-d04a249f5282"
   },
   "outputs": [],
   "source": [
    "import pandas as pd\n",
    "import numpy as np"
   ]
  },
  {
   "cell_type": "code",
   "execution_count": 9,
   "id": "9f4ea57d-ffcb-47d1-8c89-e661988e7b87",
   "metadata": {
    "id": "9f4ea57d-ffcb-47d1-8c89-e661988e7b87"
   },
   "outputs": [],
   "source": [
    "def airport_rating_cleaned(file_path):\n",
    "    data = pd.read_csv(file_path)\n",
    "\n",
    "    relevant_columns = [\n",
    "        'airport_name',\n",
    "        'content',\n",
    "        'overall_rating',\n",
    "        'queuing_rating',\n",
    "        'terminal_cleanliness_rating',\n",
    "        'terminal_seating_rating',\n",
    "        'food_beverages_rating',\n",
    "        'airport_shopping_rating',\n",
    "        'wifi_connectivity_rating',\n",
    "        'airport_staff_rating',\n",
    "        'recommended'\n",
    "    ]\n",
    "\n",
    "    data_selected = data[relevant_columns]\n",
    "\n",
    "    data_cleaned_ratings = data_selected.groupby('airport_name').transform(lambda x: x.fillna(x.mean()) if x.name != 'content' else x)\n",
    "\n",
    "    data_cleaned_ratings['airport_name'] = data['airport_name']\n",
    "    data_cleaned_ratings['content'] = data['content']\n",
    "    data_cleaned_ratings['recommended'] = data['recommended']\n",
    "\n",
    "    return data_cleaned_ratings\n"
   ]
  },
  {
   "cell_type": "code",
   "execution_count": 10,
   "id": "58b7ed34-2c09-4dad-a446-635c4f461664",
   "metadata": {
    "id": "58b7ed34-2c09-4dad-a446-635c4f461664"
   },
   "outputs": [],
   "source": [
    "airport_file=\"/content/airport.csv\"\n",
    "airline_file=\"/content/airline.csv\""
   ]
  },
  {
   "cell_type": "code",
   "execution_count": 11,
   "id": "af29b754-1a45-4a90-a978-e5e80c242be6",
   "metadata": {
    "id": "af29b754-1a45-4a90-a978-e5e80c242be6"
   },
   "outputs": [],
   "source": [
    "def airline_rating_cleaned(file_path):\n",
    "    data = pd.read_csv(file_path)\n",
    "\n",
    "    relevant_columns = [\n",
    "        'airline_name',\n",
    "        'content',\n",
    "        'overall_rating',\n",
    "        'seat_comfort_rating',\n",
    "        'cabin_staff_rating',\n",
    "        'food_beverages_rating',\n",
    "        'inflight_entertainment_rating',\n",
    "        'ground_service_rating',\n",
    "        'wifi_connectivity_rating',\n",
    "        'value_money_rating',\n",
    "        'recommended'\n",
    "    ]\n",
    "\n",
    "    data_selected = data[relevant_columns]\n",
    "\n",
    "    data_cleaned_ratings = data_selected.groupby('airline_name').transform(lambda x: x.fillna(x.mean()) if x.name != 'content' else x)\n",
    "\n",
    "    data_cleaned_ratings['airline_name'] = data['airline_name']\n",
    "    data_cleaned_ratings['content'] = data['content']\n",
    "    data_cleaned_ratings['recommended'] = data['recommended']\n",
    "\n",
    "    return data_cleaned_ratings\n"
   ]
  },
  {
   "cell_type": "code",
   "execution_count": 12,
   "id": "b2ceb67a-af1c-4f84-8b74-78a77ed8009d",
   "metadata": {
    "colab": {
     "base_uri": "https://localhost:8080/",
     "height": 478
    },
    "id": "b2ceb67a-af1c-4f84-8b74-78a77ed8009d",
    "outputId": "8b659307-3379-4d76-8223-bd3035b46c0a"
   },
   "outputs": [
    {
     "ename": "FileNotFoundError",
     "evalue": "[Errno 2] No such file or directory: '/content/airline.csv'",
     "output_type": "error",
     "traceback": [
      "\u001b[0;31m---------------------------------------------------------------------------\u001b[0m",
      "\u001b[0;31mFileNotFoundError\u001b[0m                         Traceback (most recent call last)",
      "Cell \u001b[0;32mIn[12], line 1\u001b[0m\n\u001b[0;32m----> 1\u001b[0m airline_data \u001b[38;5;241m=\u001b[39m \u001b[43mairline_rating_cleaned\u001b[49m\u001b[43m(\u001b[49m\u001b[43mairline_file\u001b[49m\u001b[43m)\u001b[49m\n\u001b[1;32m      2\u001b[0m airline_data\n",
      "Cell \u001b[0;32mIn[11], line 2\u001b[0m, in \u001b[0;36mairline_rating_cleaned\u001b[0;34m(file_path)\u001b[0m\n\u001b[1;32m      1\u001b[0m \u001b[38;5;28;01mdef\u001b[39;00m \u001b[38;5;21mairline_rating_cleaned\u001b[39m(file_path):\n\u001b[0;32m----> 2\u001b[0m     data \u001b[38;5;241m=\u001b[39m \u001b[43mpd\u001b[49m\u001b[38;5;241;43m.\u001b[39;49m\u001b[43mread_csv\u001b[49m\u001b[43m(\u001b[49m\u001b[43mfile_path\u001b[49m\u001b[43m)\u001b[49m\n\u001b[1;32m      4\u001b[0m     relevant_columns \u001b[38;5;241m=\u001b[39m [\n\u001b[1;32m      5\u001b[0m         \u001b[38;5;124m'\u001b[39m\u001b[38;5;124mairline_name\u001b[39m\u001b[38;5;124m'\u001b[39m,\n\u001b[1;32m      6\u001b[0m         \u001b[38;5;124m'\u001b[39m\u001b[38;5;124mcontent\u001b[39m\u001b[38;5;124m'\u001b[39m,\n\u001b[0;32m   (...)\u001b[0m\n\u001b[1;32m     15\u001b[0m         \u001b[38;5;124m'\u001b[39m\u001b[38;5;124mrecommended\u001b[39m\u001b[38;5;124m'\u001b[39m\n\u001b[1;32m     16\u001b[0m     ]\n\u001b[1;32m     18\u001b[0m     data_selected \u001b[38;5;241m=\u001b[39m data[relevant_columns]\n",
      "File \u001b[0;32m~/.local/lib/python3.10/site-packages/pandas/io/parsers/readers.py:948\u001b[0m, in \u001b[0;36mread_csv\u001b[0;34m(filepath_or_buffer, sep, delimiter, header, names, index_col, usecols, dtype, engine, converters, true_values, false_values, skipinitialspace, skiprows, skipfooter, nrows, na_values, keep_default_na, na_filter, verbose, skip_blank_lines, parse_dates, infer_datetime_format, keep_date_col, date_parser, date_format, dayfirst, cache_dates, iterator, chunksize, compression, thousands, decimal, lineterminator, quotechar, quoting, doublequote, escapechar, comment, encoding, encoding_errors, dialect, on_bad_lines, delim_whitespace, low_memory, memory_map, float_precision, storage_options, dtype_backend)\u001b[0m\n\u001b[1;32m    935\u001b[0m kwds_defaults \u001b[38;5;241m=\u001b[39m _refine_defaults_read(\n\u001b[1;32m    936\u001b[0m     dialect,\n\u001b[1;32m    937\u001b[0m     delimiter,\n\u001b[0;32m   (...)\u001b[0m\n\u001b[1;32m    944\u001b[0m     dtype_backend\u001b[38;5;241m=\u001b[39mdtype_backend,\n\u001b[1;32m    945\u001b[0m )\n\u001b[1;32m    946\u001b[0m kwds\u001b[38;5;241m.\u001b[39mupdate(kwds_defaults)\n\u001b[0;32m--> 948\u001b[0m \u001b[38;5;28;01mreturn\u001b[39;00m \u001b[43m_read\u001b[49m\u001b[43m(\u001b[49m\u001b[43mfilepath_or_buffer\u001b[49m\u001b[43m,\u001b[49m\u001b[43m \u001b[49m\u001b[43mkwds\u001b[49m\u001b[43m)\u001b[49m\n",
      "File \u001b[0;32m~/.local/lib/python3.10/site-packages/pandas/io/parsers/readers.py:611\u001b[0m, in \u001b[0;36m_read\u001b[0;34m(filepath_or_buffer, kwds)\u001b[0m\n\u001b[1;32m    608\u001b[0m _validate_names(kwds\u001b[38;5;241m.\u001b[39mget(\u001b[38;5;124m\"\u001b[39m\u001b[38;5;124mnames\u001b[39m\u001b[38;5;124m\"\u001b[39m, \u001b[38;5;28;01mNone\u001b[39;00m))\n\u001b[1;32m    610\u001b[0m \u001b[38;5;66;03m# Create the parser.\u001b[39;00m\n\u001b[0;32m--> 611\u001b[0m parser \u001b[38;5;241m=\u001b[39m \u001b[43mTextFileReader\u001b[49m\u001b[43m(\u001b[49m\u001b[43mfilepath_or_buffer\u001b[49m\u001b[43m,\u001b[49m\u001b[43m \u001b[49m\u001b[38;5;241;43m*\u001b[39;49m\u001b[38;5;241;43m*\u001b[39;49m\u001b[43mkwds\u001b[49m\u001b[43m)\u001b[49m\n\u001b[1;32m    613\u001b[0m \u001b[38;5;28;01mif\u001b[39;00m chunksize \u001b[38;5;129;01mor\u001b[39;00m iterator:\n\u001b[1;32m    614\u001b[0m     \u001b[38;5;28;01mreturn\u001b[39;00m parser\n",
      "File \u001b[0;32m~/.local/lib/python3.10/site-packages/pandas/io/parsers/readers.py:1448\u001b[0m, in \u001b[0;36mTextFileReader.__init__\u001b[0;34m(self, f, engine, **kwds)\u001b[0m\n\u001b[1;32m   1445\u001b[0m     \u001b[38;5;28mself\u001b[39m\u001b[38;5;241m.\u001b[39moptions[\u001b[38;5;124m\"\u001b[39m\u001b[38;5;124mhas_index_names\u001b[39m\u001b[38;5;124m\"\u001b[39m] \u001b[38;5;241m=\u001b[39m kwds[\u001b[38;5;124m\"\u001b[39m\u001b[38;5;124mhas_index_names\u001b[39m\u001b[38;5;124m\"\u001b[39m]\n\u001b[1;32m   1447\u001b[0m \u001b[38;5;28mself\u001b[39m\u001b[38;5;241m.\u001b[39mhandles: IOHandles \u001b[38;5;241m|\u001b[39m \u001b[38;5;28;01mNone\u001b[39;00m \u001b[38;5;241m=\u001b[39m \u001b[38;5;28;01mNone\u001b[39;00m\n\u001b[0;32m-> 1448\u001b[0m \u001b[38;5;28mself\u001b[39m\u001b[38;5;241m.\u001b[39m_engine \u001b[38;5;241m=\u001b[39m \u001b[38;5;28;43mself\u001b[39;49m\u001b[38;5;241;43m.\u001b[39;49m\u001b[43m_make_engine\u001b[49m\u001b[43m(\u001b[49m\u001b[43mf\u001b[49m\u001b[43m,\u001b[49m\u001b[43m \u001b[49m\u001b[38;5;28;43mself\u001b[39;49m\u001b[38;5;241;43m.\u001b[39;49m\u001b[43mengine\u001b[49m\u001b[43m)\u001b[49m\n",
      "File \u001b[0;32m~/.local/lib/python3.10/site-packages/pandas/io/parsers/readers.py:1705\u001b[0m, in \u001b[0;36mTextFileReader._make_engine\u001b[0;34m(self, f, engine)\u001b[0m\n\u001b[1;32m   1703\u001b[0m     \u001b[38;5;28;01mif\u001b[39;00m \u001b[38;5;124m\"\u001b[39m\u001b[38;5;124mb\u001b[39m\u001b[38;5;124m\"\u001b[39m \u001b[38;5;129;01mnot\u001b[39;00m \u001b[38;5;129;01min\u001b[39;00m mode:\n\u001b[1;32m   1704\u001b[0m         mode \u001b[38;5;241m+\u001b[39m\u001b[38;5;241m=\u001b[39m \u001b[38;5;124m\"\u001b[39m\u001b[38;5;124mb\u001b[39m\u001b[38;5;124m\"\u001b[39m\n\u001b[0;32m-> 1705\u001b[0m \u001b[38;5;28mself\u001b[39m\u001b[38;5;241m.\u001b[39mhandles \u001b[38;5;241m=\u001b[39m \u001b[43mget_handle\u001b[49m\u001b[43m(\u001b[49m\n\u001b[1;32m   1706\u001b[0m \u001b[43m    \u001b[49m\u001b[43mf\u001b[49m\u001b[43m,\u001b[49m\n\u001b[1;32m   1707\u001b[0m \u001b[43m    \u001b[49m\u001b[43mmode\u001b[49m\u001b[43m,\u001b[49m\n\u001b[1;32m   1708\u001b[0m \u001b[43m    \u001b[49m\u001b[43mencoding\u001b[49m\u001b[38;5;241;43m=\u001b[39;49m\u001b[38;5;28;43mself\u001b[39;49m\u001b[38;5;241;43m.\u001b[39;49m\u001b[43moptions\u001b[49m\u001b[38;5;241;43m.\u001b[39;49m\u001b[43mget\u001b[49m\u001b[43m(\u001b[49m\u001b[38;5;124;43m\"\u001b[39;49m\u001b[38;5;124;43mencoding\u001b[39;49m\u001b[38;5;124;43m\"\u001b[39;49m\u001b[43m,\u001b[49m\u001b[43m \u001b[49m\u001b[38;5;28;43;01mNone\u001b[39;49;00m\u001b[43m)\u001b[49m\u001b[43m,\u001b[49m\n\u001b[1;32m   1709\u001b[0m \u001b[43m    \u001b[49m\u001b[43mcompression\u001b[49m\u001b[38;5;241;43m=\u001b[39;49m\u001b[38;5;28;43mself\u001b[39;49m\u001b[38;5;241;43m.\u001b[39;49m\u001b[43moptions\u001b[49m\u001b[38;5;241;43m.\u001b[39;49m\u001b[43mget\u001b[49m\u001b[43m(\u001b[49m\u001b[38;5;124;43m\"\u001b[39;49m\u001b[38;5;124;43mcompression\u001b[39;49m\u001b[38;5;124;43m\"\u001b[39;49m\u001b[43m,\u001b[49m\u001b[43m \u001b[49m\u001b[38;5;28;43;01mNone\u001b[39;49;00m\u001b[43m)\u001b[49m\u001b[43m,\u001b[49m\n\u001b[1;32m   1710\u001b[0m \u001b[43m    \u001b[49m\u001b[43mmemory_map\u001b[49m\u001b[38;5;241;43m=\u001b[39;49m\u001b[38;5;28;43mself\u001b[39;49m\u001b[38;5;241;43m.\u001b[39;49m\u001b[43moptions\u001b[49m\u001b[38;5;241;43m.\u001b[39;49m\u001b[43mget\u001b[49m\u001b[43m(\u001b[49m\u001b[38;5;124;43m\"\u001b[39;49m\u001b[38;5;124;43mmemory_map\u001b[39;49m\u001b[38;5;124;43m\"\u001b[39;49m\u001b[43m,\u001b[49m\u001b[43m \u001b[49m\u001b[38;5;28;43;01mFalse\u001b[39;49;00m\u001b[43m)\u001b[49m\u001b[43m,\u001b[49m\n\u001b[1;32m   1711\u001b[0m \u001b[43m    \u001b[49m\u001b[43mis_text\u001b[49m\u001b[38;5;241;43m=\u001b[39;49m\u001b[43mis_text\u001b[49m\u001b[43m,\u001b[49m\n\u001b[1;32m   1712\u001b[0m \u001b[43m    \u001b[49m\u001b[43merrors\u001b[49m\u001b[38;5;241;43m=\u001b[39;49m\u001b[38;5;28;43mself\u001b[39;49m\u001b[38;5;241;43m.\u001b[39;49m\u001b[43moptions\u001b[49m\u001b[38;5;241;43m.\u001b[39;49m\u001b[43mget\u001b[49m\u001b[43m(\u001b[49m\u001b[38;5;124;43m\"\u001b[39;49m\u001b[38;5;124;43mencoding_errors\u001b[39;49m\u001b[38;5;124;43m\"\u001b[39;49m\u001b[43m,\u001b[49m\u001b[43m \u001b[49m\u001b[38;5;124;43m\"\u001b[39;49m\u001b[38;5;124;43mstrict\u001b[39;49m\u001b[38;5;124;43m\"\u001b[39;49m\u001b[43m)\u001b[49m\u001b[43m,\u001b[49m\n\u001b[1;32m   1713\u001b[0m \u001b[43m    \u001b[49m\u001b[43mstorage_options\u001b[49m\u001b[38;5;241;43m=\u001b[39;49m\u001b[38;5;28;43mself\u001b[39;49m\u001b[38;5;241;43m.\u001b[39;49m\u001b[43moptions\u001b[49m\u001b[38;5;241;43m.\u001b[39;49m\u001b[43mget\u001b[49m\u001b[43m(\u001b[49m\u001b[38;5;124;43m\"\u001b[39;49m\u001b[38;5;124;43mstorage_options\u001b[39;49m\u001b[38;5;124;43m\"\u001b[39;49m\u001b[43m,\u001b[49m\u001b[43m \u001b[49m\u001b[38;5;28;43;01mNone\u001b[39;49;00m\u001b[43m)\u001b[49m\u001b[43m,\u001b[49m\n\u001b[1;32m   1714\u001b[0m \u001b[43m\u001b[49m\u001b[43m)\u001b[49m\n\u001b[1;32m   1715\u001b[0m \u001b[38;5;28;01massert\u001b[39;00m \u001b[38;5;28mself\u001b[39m\u001b[38;5;241m.\u001b[39mhandles \u001b[38;5;129;01mis\u001b[39;00m \u001b[38;5;129;01mnot\u001b[39;00m \u001b[38;5;28;01mNone\u001b[39;00m\n\u001b[1;32m   1716\u001b[0m f \u001b[38;5;241m=\u001b[39m \u001b[38;5;28mself\u001b[39m\u001b[38;5;241m.\u001b[39mhandles\u001b[38;5;241m.\u001b[39mhandle\n",
      "File \u001b[0;32m~/.local/lib/python3.10/site-packages/pandas/io/common.py:863\u001b[0m, in \u001b[0;36mget_handle\u001b[0;34m(path_or_buf, mode, encoding, compression, memory_map, is_text, errors, storage_options)\u001b[0m\n\u001b[1;32m    858\u001b[0m \u001b[38;5;28;01melif\u001b[39;00m \u001b[38;5;28misinstance\u001b[39m(handle, \u001b[38;5;28mstr\u001b[39m):\n\u001b[1;32m    859\u001b[0m     \u001b[38;5;66;03m# Check whether the filename is to be opened in binary mode.\u001b[39;00m\n\u001b[1;32m    860\u001b[0m     \u001b[38;5;66;03m# Binary mode does not support 'encoding' and 'newline'.\u001b[39;00m\n\u001b[1;32m    861\u001b[0m     \u001b[38;5;28;01mif\u001b[39;00m ioargs\u001b[38;5;241m.\u001b[39mencoding \u001b[38;5;129;01mand\u001b[39;00m \u001b[38;5;124m\"\u001b[39m\u001b[38;5;124mb\u001b[39m\u001b[38;5;124m\"\u001b[39m \u001b[38;5;129;01mnot\u001b[39;00m \u001b[38;5;129;01min\u001b[39;00m ioargs\u001b[38;5;241m.\u001b[39mmode:\n\u001b[1;32m    862\u001b[0m         \u001b[38;5;66;03m# Encoding\u001b[39;00m\n\u001b[0;32m--> 863\u001b[0m         handle \u001b[38;5;241m=\u001b[39m \u001b[38;5;28;43mopen\u001b[39;49m\u001b[43m(\u001b[49m\n\u001b[1;32m    864\u001b[0m \u001b[43m            \u001b[49m\u001b[43mhandle\u001b[49m\u001b[43m,\u001b[49m\n\u001b[1;32m    865\u001b[0m \u001b[43m            \u001b[49m\u001b[43mioargs\u001b[49m\u001b[38;5;241;43m.\u001b[39;49m\u001b[43mmode\u001b[49m\u001b[43m,\u001b[49m\n\u001b[1;32m    866\u001b[0m \u001b[43m            \u001b[49m\u001b[43mencoding\u001b[49m\u001b[38;5;241;43m=\u001b[39;49m\u001b[43mioargs\u001b[49m\u001b[38;5;241;43m.\u001b[39;49m\u001b[43mencoding\u001b[49m\u001b[43m,\u001b[49m\n\u001b[1;32m    867\u001b[0m \u001b[43m            \u001b[49m\u001b[43merrors\u001b[49m\u001b[38;5;241;43m=\u001b[39;49m\u001b[43merrors\u001b[49m\u001b[43m,\u001b[49m\n\u001b[1;32m    868\u001b[0m \u001b[43m            \u001b[49m\u001b[43mnewline\u001b[49m\u001b[38;5;241;43m=\u001b[39;49m\u001b[38;5;124;43m\"\u001b[39;49m\u001b[38;5;124;43m\"\u001b[39;49m\u001b[43m,\u001b[49m\n\u001b[1;32m    869\u001b[0m \u001b[43m        \u001b[49m\u001b[43m)\u001b[49m\n\u001b[1;32m    870\u001b[0m     \u001b[38;5;28;01melse\u001b[39;00m:\n\u001b[1;32m    871\u001b[0m         \u001b[38;5;66;03m# Binary mode\u001b[39;00m\n\u001b[1;32m    872\u001b[0m         handle \u001b[38;5;241m=\u001b[39m \u001b[38;5;28mopen\u001b[39m(handle, ioargs\u001b[38;5;241m.\u001b[39mmode)\n",
      "\u001b[0;31mFileNotFoundError\u001b[0m: [Errno 2] No such file or directory: '/content/airline.csv'"
     ]
    }
   ],
   "source": [
    "airline_data = airline_rating_cleaned(airline_file)\n",
    "airline_data"
   ]
  },
  {
   "cell_type": "code",
   "execution_count": null,
   "id": "075dde38-179d-42d0-8921-5d10bacae7ba",
   "metadata": {
    "id": "075dde38-179d-42d0-8921-5d10bacae7ba"
   },
   "outputs": [],
   "source": [
    "def lounge_rating_cleaned(file_path):\n",
    "    data = pd.read_csv(file_path)\n",
    "\n",
    "    relevant_columns = [\n",
    "        'lounge_name',\n",
    "         'content',\n",
    "        'overall_rating',\n",
    "        'comfort_rating',\n",
    "        'cleanliness_rating',\n",
    "        'bar_beverages_rating',\n",
    "        'catering_rating',\n",
    "        'washrooms_rating',\n",
    "        'wifi_connectivity_rating',\n",
    "        'staff_service_rating',\n",
    "        'recommended'\n",
    "    ]\n",
    "\n",
    "    data_selected = data[relevant_columns]\n",
    "    data_cleaned_ratings = data_selected.groupby('lounge_name').transform(lambda x: x.fillna(x.mean()) if x.name != 'content' else x)\n",
    "\n",
    "    data_cleaned_ratings['lounge_name'] = data['lounge_name']\n",
    "    data_cleaned_ratings['content'] = data['content']\n",
    "    data_cleaned_ratings['recommended'] = data['recommended']\n",
    "\n",
    "\n",
    "    return data_cleaned_ratings"
   ]
  },
  {
   "cell_type": "code",
   "execution_count": null,
   "id": "a4ad3d59-3975-47c9-8fec-cbede59e9467",
   "metadata": {
    "id": "a4ad3d59-3975-47c9-8fec-cbede59e9467"
   },
   "outputs": [],
   "source": [
    "lounge_file=\"/content/lounge.csv\""
   ]
  },
  {
   "cell_type": "code",
   "execution_count": null,
   "id": "78171425-d09b-4602-a573-a97b2e3dd118",
   "metadata": {
    "colab": {
     "base_uri": "https://localhost:8080/",
     "height": 1000
    },
    "id": "78171425-d09b-4602-a573-a97b2e3dd118",
    "outputId": "c4fd1cc5-0e03-487f-8f05-350946a260b7"
   },
   "outputs": [],
   "source": [
    "lounge_data = lounge_rating_cleaned(lounge_file)\n",
    "lounge_data"
   ]
  },
  {
   "cell_type": "code",
   "execution_count": null,
   "id": "1d9f89eb-1e73-4b8f-8a53-9656bf2af322",
   "metadata": {
    "id": "1d9f89eb-1e73-4b8f-8a53-9656bf2af322"
   },
   "outputs": [],
   "source": [
    "def seat_rating_cleaned(file_path):\n",
    "    data = pd.read_csv(file_path)\n",
    "\n",
    "    relevant_columns = [\n",
    "        'airline_name',\n",
    "        'content',\n",
    "        'seat_legroom_rating',\n",
    "        'seat_width_rating',\n",
    "        'aisle_space_rating',\n",
    "        'viewing_tv_rating',\n",
    "        'power_supply_rating',\n",
    "        'seat_storage_rating',\n",
    "        'recommended',\n",
    "    ]\n",
    "\n",
    "    data_selected = data[relevant_columns]\n",
    "\n",
    "    data_cleaned_ratings = data_selected.groupby('airline_name').transform(lambda x: x.fillna(x.mean()) if x.name != 'content' else x)\n",
    "\n",
    "    data_cleaned_ratings['airline_name'] = data['airline_name']\n",
    "    data_cleaned_ratings['content'] = data['content']\n",
    "    data_cleaned_ratings['recommended'] = data['recommended']\n",
    "\n",
    "    return data_cleaned_ratings"
   ]
  },
  {
   "cell_type": "code",
   "execution_count": null,
   "id": "14d97516-6ad9-4659-af39-934a09db8270",
   "metadata": {
    "colab": {
     "base_uri": "https://localhost:8080/",
     "height": 701
    },
    "id": "14d97516-6ad9-4659-af39-934a09db8270",
    "outputId": "42fcc64c-cc52-41dc-c958-073757e1ccd4"
   },
   "outputs": [],
   "source": [
    "seat_data=\"/content/seat.csv\"\n",
    "seat_rating=seat_rating_cleaned(seat_data)\n",
    "seat_rating"
   ]
  },
  {
   "cell_type": "code",
   "execution_count": null,
   "id": "31aa0a94-92a5-45e5-9c23-97f424d1d408",
   "metadata": {
    "id": "31aa0a94-92a5-45e5-9c23-97f424d1d408"
   },
   "outputs": [],
   "source": [
    "airport_file=\"/content/airport.csv\"\n",
    "airline_file=\"/content/airline.csv\"\n",
    "lounge_file=\"/content/lounge.csv\"\n",
    "seat_data=\"/content/seat.csv\""
   ]
  },
  {
   "cell_type": "code",
   "execution_count": null,
   "id": "b72d26a5-06be-47ed-aab3-cd78025eead0",
   "metadata": {
    "id": "b72d26a5-06be-47ed-aab3-cd78025eead0"
   },
   "outputs": [],
   "source": [
    "airport_data = airport_rating_cleaned(airport_file)\n",
    "airline_data = airline_rating_cleaned(airline_file)\n",
    "lounge_data = lounge_rating_cleaned(lounge_file)\n",
    "seat_rating=seat_rating_cleaned(seat_data)"
   ]
  },
  {
   "cell_type": "code",
   "execution_count": null,
   "id": "8d55274e-3552-4a8b-831b-4152f0661995",
   "metadata": {
    "id": "8d55274e-3552-4a8b-831b-4152f0661995"
   },
   "outputs": [],
   "source": [
    "import pandas as pd\n",
    "import nltk\n",
    "from nltk.corpus import stopwords\n",
    "from nltk.tokenize import word_tokenize,sent_tokenize\n",
    "from nltk.probability import FreqDist\n",
    "from nltk.stem import WordNetLemmatizer\n",
    "import string"
   ]
  },
  {
   "cell_type": "code",
   "execution_count": null,
   "id": "b8b6785e-9ca5-4435-938a-49b13b015cf6",
   "metadata": {
    "colab": {
     "base_uri": "https://localhost:8080/"
    },
    "id": "b8b6785e-9ca5-4435-938a-49b13b015cf6",
    "outputId": "f066df89-5779-4f5c-b597-98fd91b16686"
   },
   "outputs": [],
   "source": [
    "nltk.download('punkt')\n",
    "nltk.download('stopwords')\n",
    "nltk.download('wordnet')"
   ]
  },
  {
   "cell_type": "code",
   "execution_count": null,
   "id": "05ce4a67-bfca-4565-badd-72b0256e9cf8",
   "metadata": {
    "colab": {
     "base_uri": "https://localhost:8080/"
    },
    "id": "05ce4a67-bfca-4565-badd-72b0256e9cf8",
    "outputId": "3ecef0bd-e4dd-4162-81b6-d8f38e055008"
   },
   "outputs": [],
   "source": [
    "reviews = airport_data['content'].to_list() +airline_data['content'].to_list()+ seat_rating['content'].to_list()+lounge_data['content'].to_list()"
   ]
  },
  {
   "cell_type": "code",
   "execution_count": null,
   "id": "41a71764-c3e7-4162-a526-6003006b92b0",
   "metadata": {
    "id": "41a71764-c3e7-4162-a526-6003006b92b0"
   },
   "outputs": [],
   "source": [
    "sentence=sent_tokenize(str(reviews))\n",
    "words=word_tokenize(str(sentence))"
   ]
  },
  {
   "cell_type": "code",
   "execution_count": 13,
   "id": "0c91cfd1-49cc-4f27-9f63-fe5f7fc18da6",
   "metadata": {
    "colab": {
     "base_uri": "https://localhost:8080/"
    },
    "id": "0c91cfd1-49cc-4f27-9f63-fe5f7fc18da6",
    "outputId": "9da49ef8-87db-47db-d3d5-e68d7d5028af"
   },
   "outputs": [
    {
     "ename": "NameError",
     "evalue": "name 'words' is not defined",
     "output_type": "error",
     "traceback": [
      "\u001b[0;31m---------------------------------------------------------------------------\u001b[0m",
      "\u001b[0;31mNameError\u001b[0m                                 Traceback (most recent call last)",
      "Cell \u001b[0;32mIn[13], line 1\u001b[0m\n\u001b[0;32m----> 1\u001b[0m \u001b[38;5;28mlen\u001b[39m(\u001b[43mwords\u001b[49m)\n",
      "\u001b[0;31mNameError\u001b[0m: name 'words' is not defined"
     ]
    }
   ],
   "source": [
    "len(words)"
   ]
  },
  {
   "cell_type": "code",
   "execution_count": 14,
   "id": "si8XsU0mhkC5",
   "metadata": {
    "colab": {
     "base_uri": "https://localhost:8080/"
    },
    "id": "si8XsU0mhkC5",
    "outputId": "ed538ec2-b666-4ef7-e80a-7608f6838cb9"
   },
   "outputs": [
    {
     "ename": "NameError",
     "evalue": "name 'stopwords' is not defined",
     "output_type": "error",
     "traceback": [
      "\u001b[0;31m---------------------------------------------------------------------------\u001b[0m",
      "\u001b[0;31mNameError\u001b[0m                                 Traceback (most recent call last)",
      "Cell \u001b[0;32mIn[14], line 1\u001b[0m\n\u001b[0;32m----> 1\u001b[0m \u001b[43mstopwords\u001b[49m\n",
      "\u001b[0;31mNameError\u001b[0m: name 'stopwords' is not defined"
     ]
    }
   ],
   "source": [
    "stopwords"
   ]
  },
  {
   "cell_type": "code",
   "execution_count": null,
   "id": "57-MoTTDjRMC",
   "metadata": {
    "colab": {
     "base_uri": "https://localhost:8080/"
    },
    "id": "57-MoTTDjRMC",
    "outputId": "a36eb6c5-44dc-458f-e3b9-3650447c2ae2"
   },
   "outputs": [],
   "source": [
    "import nltk\n",
    "from nltk.corpus import stopwords\n",
    "\n",
    "nltk.download('stopwords')\n",
    "\n",
    "stop_words = set(stopwords.words('english'))\n",
    "filtered = [word for word in words if word.lower() not in stop_words]\n",
    "\n",
    "print(filtered)\n"
   ]
  },
  {
   "cell_type": "code",
   "execution_count": null,
   "id": "vT0Kk21vjxls",
   "metadata": {
    "id": "vT0Kk21vjxls"
   },
   "outputs": [],
   "source": [
    "import pandas as pd\n",
    "import string\n",
    "\n",
    "filtered_words_set = set(filtered)\n",
    "\n",
    "def filter_content_words(df):\n",
    "    def filter_words_in_content(content):\n",
    "        translator = str.maketrans('', '', string.punctuation)\n",
    "        words = content_no_punct.lower().split()\n",
    "        filtered_content = ' '.join([word for word in words if word in filtered_words_set])\n",
    "        return filtered_content\n",
    "    df['content'] = df['content'].apply(filter_words_in_content)\n",
    "    return df\n",
    "\n",
    "airline = filter_content_words(airline_data)\n",
    "airport = filter_content_words(airport_data)\n",
    "lounge = filter_content_words(lounge_data)\n",
    "seat = filter_content_words(seat_rating)"
   ]
  },
  {
   "cell_type": "code",
   "execution_count": 15,
   "id": "FfCB6ewd62pc",
   "metadata": {
    "id": "FfCB6ewd62pc"
   },
   "outputs": [
    {
     "ename": "NameError",
     "evalue": "name 'airline' is not defined",
     "output_type": "error",
     "traceback": [
      "\u001b[0;31m---------------------------------------------------------------------------\u001b[0m",
      "\u001b[0;31mNameError\u001b[0m                                 Traceback (most recent call last)",
      "Cell \u001b[0;32mIn[15], line 5\u001b[0m\n\u001b[1;32m      3\u001b[0m     tokens \u001b[38;5;241m=\u001b[39m text\u001b[38;5;241m.\u001b[39msplit()\n\u001b[1;32m      4\u001b[0m     \u001b[38;5;28;01mreturn\u001b[39;00m tokens\n\u001b[0;32m----> 5\u001b[0m airline[\u001b[38;5;124m'\u001b[39m\u001b[38;5;124mtokens\u001b[39m\u001b[38;5;124m'\u001b[39m] \u001b[38;5;241m=\u001b[39m \u001b[43mairline\u001b[49m[\u001b[38;5;124m'\u001b[39m\u001b[38;5;124mcontent\u001b[39m\u001b[38;5;124m'\u001b[39m]\u001b[38;5;241m.\u001b[39mapply(preprocess_text)\n",
      "\u001b[0;31mNameError\u001b[0m: name 'airline' is not defined"
     ]
    }
   ],
   "source": [
    "def preprocess_text(text):\n",
    "    text = text.lower().translate(str.maketrans('', '', string.punctuation))\n",
    "    tokens = text.split()\n",
    "    return tokens\n",
    "airline['tokens'] = airline['content'].apply(preprocess_text)"
   ]
  },
  {
   "cell_type": "code",
   "execution_count": 37,
   "id": "T-x2gZt669D9",
   "metadata": {
    "id": "T-x2gZt669D9"
   },
   "outputs": [],
   "source": [
    "from collections import Counter, defaultdict\n",
    "\n",
    "vocabulary = set()\n",
    "for tokens in airline['tokens']:\n",
    "    vocabulary.update(tokens)\n",
    "V = len(vocabulary)\n",
    "\n",
    "token_to_index = {token: idx for idx, token in enumerate(vocabulary)}\n",
    "\n",
    "airline.dropna(inplace=True)\n",
    "ratings = airline['overall_rating'].dropna().astype(int).unique()\n",
    "token_counts_per_rating = {rating: Counter() for rating in ratings}\n",
    "total_tokens_per_rating = {rating: 0 for rating in ratings}\n",
    "rating_counts = airline['overall_rating'].value_counts().to_dict()\n",
    "\n",
    "for _, row in airline.iterrows():\n",
    "    rating = int(row['overall_rating'])\n",
    "    tokens = row['tokens']\n",
    "    token_counts_per_rating[rating].update(tokens)\n",
    "    total_tokens_per_rating[rating] += len(tokens)\n",
    "\n",
    "all_token_counts = Counter()\n",
    "total_tokens = 0\n",
    "for tokens in airline['tokens']:\n",
    "    all_token_counts.update(tokens)\n",
    "    total_tokens += len(tokens)"
   ]
  },
  {
   "cell_type": "code",
   "execution_count": 38,
   "id": "sbWACy5P7CmB",
   "metadata": {
    "id": "sbWACy5P7CmB"
   },
   "outputs": [],
   "source": [
    "P_X = {rating: count / len(airline) for rating, count in rating_counts.items()}\n",
    "\n",
    "P_token_given_X = {}\n",
    "for rating in ratings:\n",
    "    P_token_given_X[rating] = {}\n",
    "    total_tokens_rating = total_tokens_per_rating[rating] + V\n",
    "    for token in vocabulary:\n",
    "        count = token_counts_per_rating[rating][token] + 1\n",
    "        P_token_given_X[rating][token] = count / total_tokens_rating\n",
    "\n",
    "P_token = {}\n",
    "total_tokens_smooth = total_tokens + V\n",
    "for token in vocabulary:\n",
    "    count = all_token_counts[token] + 1\n",
    "    P_token[token] = count / total_tokens_smooth"
   ]
  },
  {
   "cell_type": "code",
   "execution_count": 48,
   "id": "oQziFLcW7bUr",
   "metadata": {
    "colab": {
     "base_uri": "https://localhost:8080/"
    },
    "id": "oQziFLcW7bUr",
    "outputId": "c1280663-1260-494a-bf83-e7754106ac08"
   },
   "outputs": [
    {
     "name": "stdout",
     "output_type": "stream",
     "text": [
      "Please enter your review: \n",
      "Rating Probabilities: {10: 0.16231518211323478, 8: 0.13855030652722686, 9: 0.1441038586368554, 7: 0.08550306527226828, 2: 0.08250991705733862, 3: 0.06318067075369636, 5: 0.06556076451496573, 1: 0.16310854670032454, 6: 0.049116480346195465, 4: 0.04605120807789397}\n",
      "Predicted Rating: 1\n"
     ]
    }
   ],
   "source": [
    "import math\n",
    "\n",
    "def compute_rating_probabilities(review_text):\n",
    "    review_tokens = preprocess_text(review_text)\n",
    "    rating_log_probs = {}\n",
    "    for rating in ratings:\n",
    "        log_prob = math.log(P_X.get(rating, 1e-6))\n",
    "        for token in review_tokens:\n",
    "            if token in vocabulary:\n",
    "                P_t_given_X = P_token_given_X[rating][token]\n",
    "                P_t = P_token[token]\n",
    "                log_prob += math.log(P_t_given_X) - math.log(P_t)\n",
    "            else:\n",
    "                continue\n",
    "        rating_log_probs[rating] = log_prob\n",
    "    max_log_prob = max(rating_log_probs.values())\n",
    "    exp_probs = {rating: math.exp(log_prob - max_log_prob) for rating, log_prob in rating_log_probs.items()}\n",
    "    total_prob = sum(exp_probs.values())\n",
    "    rating_probs = {rating: prob / total_prob for rating, prob in exp_probs.items()}\n",
    "    return rating_probs\n",
    "\n",
    "\n",
    "new_review = input(\"Please enter your review: \")\n",
    "rating_probs = compute_rating_probabilities(new_review)\n",
    "print(\"Rating Probabilities:\", rating_probs)\n",
    "predicted_rating = max(rating_probs, key=rating_probs.get)\n",
    "print(\"Predicted Rating:\", predicted_rating)"
   ]
  },
  {
   "cell_type": "code",
   "execution_count": 49,
   "id": "dvM46ifr7hCy",
   "metadata": {
    "colab": {
     "base_uri": "https://localhost:8080/"
    },
    "id": "dvM46ifr7hCy",
    "outputId": "683db4c0-663a-46ca-b883-fdf1871a34d3"
   },
   "outputs": [
    {
     "name": "stdout",
     "output_type": "stream",
     "text": [
      "Enter your review: bad\n",
      "Rating Probabilities: {10: 0.10806948140357889, 8: 0.12476322049524396, 9: 0.10734888829350653, 7: 0.09251705904001858, 2: 0.1093134877075236, 3: 0.08233671915874817, 5: 0.07982072791561874, 1: 0.18602573569697964, 6: 0.057231608824769645, 4: 0.05257307146401227}\n",
      "Predicted Rating: 1\n"
     ]
    }
   ],
   "source": [
    "new_review = input(\"Enter your review: \")\n",
    "rating_probs = compute_rating_probabilities(new_review)\n",
    "print(\"Rating Probabilities:\", rating_probs)\n",
    "predicted_rating = max(rating_probs, key=rating_probs.get)\n",
    "print(\"Predicted Rating:\", predicted_rating)"
   ]
  },
  {
   "cell_type": "code",
   "execution_count": 50,
   "id": "EFHNs1qrDfly",
   "metadata": {
    "id": "EFHNs1qrDfly"
   },
   "outputs": [],
   "source": [
    "import seaborn as sns"
   ]
  },
  {
   "cell_type": "code",
   "execution_count": 51,
   "id": "KQq3G3ZXDU2j",
   "metadata": {
    "colab": {
     "base_uri": "https://localhost:8080/",
     "height": 447
    },
    "id": "KQq3G3ZXDU2j",
    "outputId": "15e7f307-1c50-4f11-9b83-d135a186a9c6"
   },
   "outputs": [
    {
     "data": {
      "text/plain": [
       "<Axes: ylabel='Count'>"
      ]
     },
     "execution_count": 51,
     "metadata": {},
     "output_type": "execute_result"
    },
    {
     "data": {
      "image/png": "[encoded data removed]",
      "text/plain": [
       "<Figure size 640x480 with 1 Axes>"
      ]
     },
     "metadata": {},
     "output_type": "display_data"
    }
   ],
   "source": [
    "sns.histplot(rating_probs,color=\"blue\")"
   ]
  },
  {
   "cell_type": "markdown",
   "id": "1c735a21-f8ff-4997-b4e5-f783e2045f09",
   "metadata": {},
   "source": [
    "### Density Function of Overall Rating"
   ]
  },
  {
   "cell_type": "code",
   "execution_count": 53,
   "id": "IqTWU1tjDeAH",
   "metadata": {
    "colab": {
     "base_uri": "https://localhost:8080/",
     "height": 447
    },
    "id": "IqTWU1tjDeAH",
    "outputId": "d12afd3f-e41e-4aff-d7a8-7ac769bc4473"
   },
   "outputs": [
    {
     "data": {
      "text/plain": [
       "<Axes: ylabel='Density'>"
      ]
     },
     "execution_count": 53,
     "metadata": {},
     "output_type": "execute_result"
    },
    {
     "data": {
      "image/png": "[encoded data removed]",
      "text/plain": [
       "<Figure size 640x480 with 1 Axes>"
      ]
     },
     "metadata": {},
     "output_type": "display_data"
    }
   ],
   "source": [
    "sns.kdeplot(rating_probs,fill=True,color=\"blue\")"
   ]
  },
  {
   "cell_type": "code",
   "execution_count": 7,
   "id": "s-BjZph_ENP0",
   "metadata": {
    "colab": {
     "base_uri": "https://localhost:8080/"
    },
    "id": "s-BjZph_ENP0",
    "outputId": "6255c670-cdb9-4bbf-a0b0-57e03a9d3d2e"
   },
   "outputs": [
    {
     "name": "stdin",
     "output_type": "stream",
     "text": [
      "Enter your review:  bad service\n"
     ]
    },
    {
     "ename": "NameError",
     "evalue": "name 'compute_rating_probabilities' is not defined",
     "output_type": "error",
     "traceback": [
      "\u001b[0;31m---------------------------------------------------------------------------\u001b[0m",
      "\u001b[0;31mNameError\u001b[0m                                 Traceback (most recent call last)",
      "Cell \u001b[0;32mIn[7], line 2\u001b[0m\n\u001b[1;32m      1\u001b[0m new_review \u001b[38;5;241m=\u001b[39m \u001b[38;5;28minput\u001b[39m(\u001b[38;5;124m\"\u001b[39m\u001b[38;5;124mEnter your review: \u001b[39m\u001b[38;5;124m\"\u001b[39m)\n\u001b[0;32m----> 2\u001b[0m rating_probs \u001b[38;5;241m=\u001b[39m \u001b[43mcompute_rating_probabilities\u001b[49m(new_review)\n\u001b[1;32m      3\u001b[0m \u001b[38;5;28mprint\u001b[39m(\u001b[38;5;124m\"\u001b[39m\u001b[38;5;124mRating Probabilities:\u001b[39m\u001b[38;5;124m\"\u001b[39m, rating_probs)\n\u001b[1;32m      4\u001b[0m predicted_rating \u001b[38;5;241m=\u001b[39m \u001b[38;5;28mmax\u001b[39m(rating_probs, key\u001b[38;5;241m=\u001b[39mrating_probs\u001b[38;5;241m.\u001b[39mget)\n",
      "\u001b[0;31mNameError\u001b[0m: name 'compute_rating_probabilities' is not defined"
     ]
    }
   ],
   "source": [
    "new_review = input(\"Enter your review: \")\n",
    "rating_probs = compute_rating_probabilities(new_review)\n",
    "print(\"Rating Probabilities:\", rating_probs)\n",
    "predicted_rating = max(rating_probs, key=rating_probs.get)\n",
    "print(\"Predicted Rating:\", predicted_rating)"
   ]
  },
  {
   "cell_type": "code",
   "execution_count": null,
   "id": "xD99tfosEX-O",
   "metadata": {
    "id": "xD99tfosEX-O"
   },
   "outputs": [],
   "source": []
  }
 ],
 "metadata": {
  "accelerator": "GPU",
  "colab": {
   "gpuType": "T4",
   "provenance": []
  },
  "kernelspec": {
   "display_name": "Python 3 (ipykernel)",
   "language": "python",
   "name": "python3"
  },
  "language_info": {
   "codemirror_mode": {
    "name": "ipython",
    "version": 3
   },
   "file_extension": ".py",
   "mimetype": "text/x-python",
   "name": "python",
   "nbconvert_exporter": "python",
   "pygments_lexer": "ipython3",
   "version": "3.10.12"
  }
 },
 "nbformat": 4,
 "nbformat_minor": 5
}
